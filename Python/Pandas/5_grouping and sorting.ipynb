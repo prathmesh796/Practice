{
 "cells": [
  {
   "cell_type": "code",
   "execution_count": 1,
   "id": "14dde5b4",
   "metadata": {},
   "outputs": [],
   "source": [
    "import pandas as pd"
   ]
  },
  {
   "cell_type": "markdown",
   "id": "c7f804e4",
   "metadata": {},
   "source": [
    "# grouping"
   ]
  },
  {
   "cell_type": "markdown",
   "id": "3520bf16",
   "metadata": {},
   "source": [
    "pandas provides a grouping method called as groupby() method which can be ussed along with various arithmetic methods like count(), sum(), min(), max(), etc."
   ]
  },
  {
   "cell_type": "code",
   "execution_count": 2,
   "id": "a7e62446",
   "metadata": {},
   "outputs": [],
   "source": [
    "d1 = {\n",
    "    'name' : ['prathmesh', 'siddhi', 'ravi', 'mangal', 'kushal', 'om', 'rushi', 'soham'],\n",
    "    'marks' : [99, 89, 95, 94, 94, 89, 89, 100],\n",
    "    'city' : ['khatav', 'satara', 'mumbai', 'indore', 'pune', 'delhi', 'amritsar', 'nagar'],\n",
    "    'state' : ['maharashtra', 'maharashtra', 'maharashtra', 'MP', 'maharashtra', 'haryana', 'punjab', 'maharashtra']\n",
    "}"
   ]
  },
  {
   "cell_type": "code",
   "execution_count": 3,
   "id": "a508c4a5",
   "metadata": {},
   "outputs": [],
   "source": [
    "df = pd.DataFrame(d1)"
   ]
  },
  {
   "cell_type": "code",
   "execution_count": 4,
   "id": "ae845989",
   "metadata": {},
   "outputs": [
    {
     "data": {
      "text/html": [
       "<div>\n",
       "<style scoped>\n",
       "    .dataframe tbody tr th:only-of-type {\n",
       "        vertical-align: middle;\n",
       "    }\n",
       "\n",
       "    .dataframe tbody tr th {\n",
       "        vertical-align: top;\n",
       "    }\n",
       "\n",
       "    .dataframe thead th {\n",
       "        text-align: right;\n",
       "    }\n",
       "</style>\n",
       "<table border=\"1\" class=\"dataframe\">\n",
       "  <thead>\n",
       "    <tr style=\"text-align: right;\">\n",
       "      <th></th>\n",
       "      <th>name</th>\n",
       "      <th>marks</th>\n",
       "      <th>city</th>\n",
       "      <th>state</th>\n",
       "    </tr>\n",
       "  </thead>\n",
       "  <tbody>\n",
       "    <tr>\n",
       "      <th>0</th>\n",
       "      <td>prathmesh</td>\n",
       "      <td>99</td>\n",
       "      <td>khatav</td>\n",
       "      <td>maharashtra</td>\n",
       "    </tr>\n",
       "    <tr>\n",
       "      <th>1</th>\n",
       "      <td>siddhi</td>\n",
       "      <td>89</td>\n",
       "      <td>satara</td>\n",
       "      <td>maharashtra</td>\n",
       "    </tr>\n",
       "    <tr>\n",
       "      <th>2</th>\n",
       "      <td>ravi</td>\n",
       "      <td>95</td>\n",
       "      <td>mumbai</td>\n",
       "      <td>maharashtra</td>\n",
       "    </tr>\n",
       "    <tr>\n",
       "      <th>3</th>\n",
       "      <td>mangal</td>\n",
       "      <td>94</td>\n",
       "      <td>indore</td>\n",
       "      <td>MP</td>\n",
       "    </tr>\n",
       "    <tr>\n",
       "      <th>4</th>\n",
       "      <td>kushal</td>\n",
       "      <td>94</td>\n",
       "      <td>pune</td>\n",
       "      <td>maharashtra</td>\n",
       "    </tr>\n",
       "    <tr>\n",
       "      <th>5</th>\n",
       "      <td>om</td>\n",
       "      <td>89</td>\n",
       "      <td>delhi</td>\n",
       "      <td>haryana</td>\n",
       "    </tr>\n",
       "    <tr>\n",
       "      <th>6</th>\n",
       "      <td>rushi</td>\n",
       "      <td>89</td>\n",
       "      <td>amritsar</td>\n",
       "      <td>punjab</td>\n",
       "    </tr>\n",
       "    <tr>\n",
       "      <th>7</th>\n",
       "      <td>soham</td>\n",
       "      <td>100</td>\n",
       "      <td>nagar</td>\n",
       "      <td>maharashtra</td>\n",
       "    </tr>\n",
       "  </tbody>\n",
       "</table>\n",
       "</div>"
      ],
      "text/plain": [
       "        name  marks      city        state\n",
       "0  prathmesh     99    khatav  maharashtra\n",
       "1     siddhi     89    satara  maharashtra\n",
       "2       ravi     95    mumbai  maharashtra\n",
       "3     mangal     94    indore           MP\n",
       "4     kushal     94      pune  maharashtra\n",
       "5         om     89     delhi      haryana\n",
       "6      rushi     89  amritsar       punjab\n",
       "7      soham    100     nagar  maharashtra"
      ]
     },
     "execution_count": 4,
     "metadata": {},
     "output_type": "execute_result"
    }
   ],
   "source": [
    "df"
   ]
  },
  {
   "cell_type": "code",
   "execution_count": 5,
   "id": "95b276d0",
   "metadata": {},
   "outputs": [
    {
     "data": {
      "text/plain": [
       "marks\n",
       "89     3\n",
       "94     2\n",
       "95     1\n",
       "99     1\n",
       "100    1\n",
       "Name: marks, dtype: int64"
      ]
     },
     "execution_count": 5,
     "metadata": {},
     "output_type": "execute_result"
    }
   ],
   "source": [
    "groupby_marks = df.groupby('marks').marks.count()\n",
    "groupby_marks.head()"
   ]
  },
  {
   "cell_type": "code",
   "execution_count": 6,
   "id": "a2ffb9d6",
   "metadata": {},
   "outputs": [
    {
     "data": {
      "text/plain": [
       "marks\n",
       "95     1\n",
       "99     1\n",
       "100    1\n",
       "94     2\n",
       "89     3\n",
       "Name: marks, dtype: int64"
      ]
     },
     "execution_count": 6,
     "metadata": {},
     "output_type": "execute_result"
    }
   ],
   "source": [
    "df.groupby('marks').marks.count().sort_values() #you can add ascending=False in sort_values() function"
   ]
  },
  {
   "cell_type": "markdown",
   "id": "fc4eb207",
   "metadata": {},
   "source": [
    "Another method for grouping the is by using apply() method.\n"
   ]
  },
  {
   "cell_type": "code",
   "execution_count": 8,
   "id": "d796c5fb",
   "metadata": {},
   "outputs": [
    {
     "data": {
      "text/html": [
       "<div>\n",
       "<style scoped>\n",
       "    .dataframe tbody tr th:only-of-type {\n",
       "        vertical-align: middle;\n",
       "    }\n",
       "\n",
       "    .dataframe tbody tr th {\n",
       "        vertical-align: top;\n",
       "    }\n",
       "\n",
       "    .dataframe thead th {\n",
       "        text-align: right;\n",
       "    }\n",
       "</style>\n",
       "<table border=\"1\" class=\"dataframe\">\n",
       "  <thead>\n",
       "    <tr style=\"text-align: right;\">\n",
       "      <th></th>\n",
       "      <th></th>\n",
       "      <th>name</th>\n",
       "      <th>marks</th>\n",
       "      <th>city</th>\n",
       "      <th>state</th>\n",
       "    </tr>\n",
       "    <tr>\n",
       "      <th>city</th>\n",
       "      <th>state</th>\n",
       "      <th></th>\n",
       "      <th></th>\n",
       "      <th></th>\n",
       "      <th></th>\n",
       "    </tr>\n",
       "  </thead>\n",
       "  <tbody>\n",
       "    <tr>\n",
       "      <th>amritsar</th>\n",
       "      <th>punjab</th>\n",
       "      <td>rushi</td>\n",
       "      <td>89</td>\n",
       "      <td>amritsar</td>\n",
       "      <td>punjab</td>\n",
       "    </tr>\n",
       "    <tr>\n",
       "      <th>delhi</th>\n",
       "      <th>haryana</th>\n",
       "      <td>om</td>\n",
       "      <td>89</td>\n",
       "      <td>delhi</td>\n",
       "      <td>haryana</td>\n",
       "    </tr>\n",
       "    <tr>\n",
       "      <th>indore</th>\n",
       "      <th>MP</th>\n",
       "      <td>mangal</td>\n",
       "      <td>94</td>\n",
       "      <td>indore</td>\n",
       "      <td>MP</td>\n",
       "    </tr>\n",
       "    <tr>\n",
       "      <th>khatav</th>\n",
       "      <th>maharashtra</th>\n",
       "      <td>prathmesh</td>\n",
       "      <td>99</td>\n",
       "      <td>khatav</td>\n",
       "      <td>maharashtra</td>\n",
       "    </tr>\n",
       "    <tr>\n",
       "      <th>mumbai</th>\n",
       "      <th>maharashtra</th>\n",
       "      <td>ravi</td>\n",
       "      <td>95</td>\n",
       "      <td>mumbai</td>\n",
       "      <td>maharashtra</td>\n",
       "    </tr>\n",
       "    <tr>\n",
       "      <th>nagar</th>\n",
       "      <th>maharashtra</th>\n",
       "      <td>soham</td>\n",
       "      <td>100</td>\n",
       "      <td>nagar</td>\n",
       "      <td>maharashtra</td>\n",
       "    </tr>\n",
       "    <tr>\n",
       "      <th>pune</th>\n",
       "      <th>maharashtra</th>\n",
       "      <td>kushal</td>\n",
       "      <td>94</td>\n",
       "      <td>pune</td>\n",
       "      <td>maharashtra</td>\n",
       "    </tr>\n",
       "    <tr>\n",
       "      <th>satara</th>\n",
       "      <th>maharashtra</th>\n",
       "      <td>siddhi</td>\n",
       "      <td>89</td>\n",
       "      <td>satara</td>\n",
       "      <td>maharashtra</td>\n",
       "    </tr>\n",
       "  </tbody>\n",
       "</table>\n",
       "</div>"
      ],
      "text/plain": [
       "                           name  marks      city        state\n",
       "city     state                                               \n",
       "amritsar punjab           rushi     89  amritsar       punjab\n",
       "delhi    haryana             om     89     delhi      haryana\n",
       "indore   MP              mangal     94    indore           MP\n",
       "khatav   maharashtra  prathmesh     99    khatav  maharashtra\n",
       "mumbai   maharashtra       ravi     95    mumbai  maharashtra\n",
       "nagar    maharashtra      soham    100     nagar  maharashtra\n",
       "pune     maharashtra     kushal     94      pune  maharashtra\n",
       "satara   maharashtra     siddhi     89    satara  maharashtra"
      ]
     },
     "execution_count": 8,
     "metadata": {},
     "output_type": "execute_result"
    }
   ],
   "source": [
    "df.groupby(['city', 'state']).apply(lambda t : t.loc[t.marks.idxmax()])"
   ]
  },
  {
   "cell_type": "code",
   "execution_count": null,
   "id": "6dee4e51",
   "metadata": {},
   "outputs": [],
   "source": []
  }
 ],
 "metadata": {
  "kernelspec": {
   "display_name": "Python 3 (ipykernel)",
   "language": "python",
   "name": "python3"
  },
  "language_info": {
   "codemirror_mode": {
    "name": "ipython",
    "version": 3
   },
   "file_extension": ".py",
   "mimetype": "text/x-python",
   "name": "python",
   "nbconvert_exporter": "python",
   "pygments_lexer": "ipython3",
   "version": "3.7.9"
  }
 },
 "nbformat": 4,
 "nbformat_minor": 5
}
