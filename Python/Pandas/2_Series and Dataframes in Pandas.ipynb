{
 "cells": [
  {
   "cell_type": "code",
   "execution_count": 1,
   "id": "5b670359",
   "metadata": {},
   "outputs": [],
   "source": [
    "import numpy as np\n",
    "import pandas as pd"
   ]
  },
  {
   "cell_type": "code",
   "execution_count": 2,
   "id": "d99ce1c7",
   "metadata": {},
   "outputs": [],
   "source": [
    "s1 = pd.Series(np.random.rand(10))"
   ]
  },
  {
   "cell_type": "code",
   "execution_count": 3,
   "id": "e6e0ed08",
   "metadata": {},
   "outputs": [
    {
     "data": {
      "text/plain": [
       "0    0.156849\n",
       "1    0.769477\n",
       "2    0.168590\n",
       "3    0.119425\n",
       "4    0.043855\n",
       "5    0.042805\n",
       "6    0.154702\n",
       "7    0.468593\n",
       "8    0.574658\n",
       "9    0.162203\n",
       "dtype: float64"
      ]
     },
     "execution_count": 3,
     "metadata": {},
     "output_type": "execute_result"
    }
   ],
   "source": [
    "s1"
   ]
  },
  {
   "cell_type": "code",
   "execution_count": 4,
   "id": "85c46af8",
   "metadata": {},
   "outputs": [
    {
     "data": {
      "text/plain": [
       "pandas.core.series.Series"
      ]
     },
     "execution_count": 4,
     "metadata": {},
     "output_type": "execute_result"
    }
   ],
   "source": [
    "type(s1)"
   ]
  },
  {
   "cell_type": "code",
   "execution_count": 8,
   "id": "ebf1241f",
   "metadata": {},
   "outputs": [
    {
     "data": {
      "text/plain": [
       "count    10.000000\n",
       "mean      0.266116\n",
       "std       0.248331\n",
       "min       0.042805\n",
       "25%       0.128245\n",
       "50%       0.159526\n",
       "75%       0.393592\n",
       "max       0.769477\n",
       "dtype: float64"
      ]
     },
     "execution_count": 8,
     "metadata": {},
     "output_type": "execute_result"
    }
   ],
   "source": [
    "s1.describe()"
   ]
  },
  {
   "cell_type": "code",
   "execution_count": 10,
   "id": "c98a21e6",
   "metadata": {},
   "outputs": [
    {
     "data": {
      "text/plain": [
       "dtype('float64')"
      ]
     },
     "execution_count": 10,
     "metadata": {},
     "output_type": "execute_result"
    }
   ],
   "source": [
    "s1.dtype"
   ]
  },
  {
   "cell_type": "code",
   "execution_count": 5,
   "id": "377ea6cb",
   "metadata": {},
   "outputs": [],
   "source": [
    "d1 = pd.DataFrame(np.random.rand(500, 5), index = np.arange(500))"
   ]
  },
  {
   "cell_type": "code",
   "execution_count": 6,
   "id": "7838b2a1",
   "metadata": {},
   "outputs": [
    {
     "data": {
      "text/html": [
       "<div>\n",
       "<style scoped>\n",
       "    .dataframe tbody tr th:only-of-type {\n",
       "        vertical-align: middle;\n",
       "    }\n",
       "\n",
       "    .dataframe tbody tr th {\n",
       "        vertical-align: top;\n",
       "    }\n",
       "\n",
       "    .dataframe thead th {\n",
       "        text-align: right;\n",
       "    }\n",
       "</style>\n",
       "<table border=\"1\" class=\"dataframe\">\n",
       "  <thead>\n",
       "    <tr style=\"text-align: right;\">\n",
       "      <th></th>\n",
       "      <th>0</th>\n",
       "      <th>1</th>\n",
       "      <th>2</th>\n",
       "      <th>3</th>\n",
       "      <th>4</th>\n",
       "    </tr>\n",
       "  </thead>\n",
       "  <tbody>\n",
       "    <tr>\n",
       "      <th>0</th>\n",
       "      <td>0.788123</td>\n",
       "      <td>0.972468</td>\n",
       "      <td>0.463594</td>\n",
       "      <td>0.926203</td>\n",
       "      <td>0.268829</td>\n",
       "    </tr>\n",
       "    <tr>\n",
       "      <th>1</th>\n",
       "      <td>0.811221</td>\n",
       "      <td>0.517939</td>\n",
       "      <td>0.959999</td>\n",
       "      <td>0.085303</td>\n",
       "      <td>0.687814</td>\n",
       "    </tr>\n",
       "    <tr>\n",
       "      <th>2</th>\n",
       "      <td>0.671856</td>\n",
       "      <td>0.049564</td>\n",
       "      <td>0.985634</td>\n",
       "      <td>0.535433</td>\n",
       "      <td>0.892215</td>\n",
       "    </tr>\n",
       "    <tr>\n",
       "      <th>3</th>\n",
       "      <td>0.119250</td>\n",
       "      <td>0.845539</td>\n",
       "      <td>0.209350</td>\n",
       "      <td>0.407717</td>\n",
       "      <td>0.402083</td>\n",
       "    </tr>\n",
       "    <tr>\n",
       "      <th>4</th>\n",
       "      <td>0.134674</td>\n",
       "      <td>0.800343</td>\n",
       "      <td>0.721019</td>\n",
       "      <td>0.369413</td>\n",
       "      <td>0.673376</td>\n",
       "    </tr>\n",
       "    <tr>\n",
       "      <th>...</th>\n",
       "      <td>...</td>\n",
       "      <td>...</td>\n",
       "      <td>...</td>\n",
       "      <td>...</td>\n",
       "      <td>...</td>\n",
       "    </tr>\n",
       "    <tr>\n",
       "      <th>495</th>\n",
       "      <td>0.686891</td>\n",
       "      <td>0.187227</td>\n",
       "      <td>0.846971</td>\n",
       "      <td>0.715675</td>\n",
       "      <td>0.268602</td>\n",
       "    </tr>\n",
       "    <tr>\n",
       "      <th>496</th>\n",
       "      <td>0.875066</td>\n",
       "      <td>0.053198</td>\n",
       "      <td>0.717382</td>\n",
       "      <td>0.306205</td>\n",
       "      <td>0.029654</td>\n",
       "    </tr>\n",
       "    <tr>\n",
       "      <th>497</th>\n",
       "      <td>0.883197</td>\n",
       "      <td>0.598489</td>\n",
       "      <td>0.999879</td>\n",
       "      <td>0.069744</td>\n",
       "      <td>0.626405</td>\n",
       "    </tr>\n",
       "    <tr>\n",
       "      <th>498</th>\n",
       "      <td>0.652893</td>\n",
       "      <td>0.515335</td>\n",
       "      <td>0.145144</td>\n",
       "      <td>0.596191</td>\n",
       "      <td>0.537987</td>\n",
       "    </tr>\n",
       "    <tr>\n",
       "      <th>499</th>\n",
       "      <td>0.067964</td>\n",
       "      <td>0.955279</td>\n",
       "      <td>0.036906</td>\n",
       "      <td>0.023983</td>\n",
       "      <td>0.243949</td>\n",
       "    </tr>\n",
       "  </tbody>\n",
       "</table>\n",
       "<p>500 rows × 5 columns</p>\n",
       "</div>"
      ],
      "text/plain": [
       "            0         1         2         3         4\n",
       "0    0.788123  0.972468  0.463594  0.926203  0.268829\n",
       "1    0.811221  0.517939  0.959999  0.085303  0.687814\n",
       "2    0.671856  0.049564  0.985634  0.535433  0.892215\n",
       "3    0.119250  0.845539  0.209350  0.407717  0.402083\n",
       "4    0.134674  0.800343  0.721019  0.369413  0.673376\n",
       "..        ...       ...       ...       ...       ...\n",
       "495  0.686891  0.187227  0.846971  0.715675  0.268602\n",
       "496  0.875066  0.053198  0.717382  0.306205  0.029654\n",
       "497  0.883197  0.598489  0.999879  0.069744  0.626405\n",
       "498  0.652893  0.515335  0.145144  0.596191  0.537987\n",
       "499  0.067964  0.955279  0.036906  0.023983  0.243949\n",
       "\n",
       "[500 rows x 5 columns]"
      ]
     },
     "execution_count": 6,
     "metadata": {},
     "output_type": "execute_result"
    }
   ],
   "source": [
    "d1"
   ]
  },
  {
   "cell_type": "code",
   "execution_count": 7,
   "id": "c14f8a54",
   "metadata": {},
   "outputs": [
    {
     "data": {
      "text/plain": [
       "pandas.core.frame.DataFrame"
      ]
     },
     "execution_count": 7,
     "metadata": {},
     "output_type": "execute_result"
    }
   ],
   "source": [
    "type(d1)"
   ]
  },
  {
   "cell_type": "code",
   "execution_count": 11,
   "id": "4c18138e",
   "metadata": {},
   "outputs": [
    {
     "data": {
      "text/html": [
       "<div>\n",
       "<style scoped>\n",
       "    .dataframe tbody tr th:only-of-type {\n",
       "        vertical-align: middle;\n",
       "    }\n",
       "\n",
       "    .dataframe tbody tr th {\n",
       "        vertical-align: top;\n",
       "    }\n",
       "\n",
       "    .dataframe thead th {\n",
       "        text-align: right;\n",
       "    }\n",
       "</style>\n",
       "<table border=\"1\" class=\"dataframe\">\n",
       "  <thead>\n",
       "    <tr style=\"text-align: right;\">\n",
       "      <th></th>\n",
       "      <th>0</th>\n",
       "      <th>1</th>\n",
       "      <th>2</th>\n",
       "      <th>3</th>\n",
       "      <th>4</th>\n",
       "    </tr>\n",
       "  </thead>\n",
       "  <tbody>\n",
       "    <tr>\n",
       "      <th>count</th>\n",
       "      <td>500.000000</td>\n",
       "      <td>500.000000</td>\n",
       "      <td>500.000000</td>\n",
       "      <td>500.000000</td>\n",
       "      <td>500.000000</td>\n",
       "    </tr>\n",
       "    <tr>\n",
       "      <th>mean</th>\n",
       "      <td>0.497263</td>\n",
       "      <td>0.489739</td>\n",
       "      <td>0.517166</td>\n",
       "      <td>0.478801</td>\n",
       "      <td>0.517301</td>\n",
       "    </tr>\n",
       "    <tr>\n",
       "      <th>std</th>\n",
       "      <td>0.282874</td>\n",
       "      <td>0.282577</td>\n",
       "      <td>0.295033</td>\n",
       "      <td>0.287467</td>\n",
       "      <td>0.281285</td>\n",
       "    </tr>\n",
       "    <tr>\n",
       "      <th>min</th>\n",
       "      <td>0.000119</td>\n",
       "      <td>0.002137</td>\n",
       "      <td>0.001695</td>\n",
       "      <td>0.000752</td>\n",
       "      <td>0.000881</td>\n",
       "    </tr>\n",
       "    <tr>\n",
       "      <th>25%</th>\n",
       "      <td>0.253882</td>\n",
       "      <td>0.243956</td>\n",
       "      <td>0.253445</td>\n",
       "      <td>0.257622</td>\n",
       "      <td>0.281927</td>\n",
       "    </tr>\n",
       "    <tr>\n",
       "      <th>50%</th>\n",
       "      <td>0.484763</td>\n",
       "      <td>0.500644</td>\n",
       "      <td>0.537102</td>\n",
       "      <td>0.464864</td>\n",
       "      <td>0.512380</td>\n",
       "    </tr>\n",
       "    <tr>\n",
       "      <th>75%</th>\n",
       "      <td>0.742383</td>\n",
       "      <td>0.730797</td>\n",
       "      <td>0.779921</td>\n",
       "      <td>0.718273</td>\n",
       "      <td>0.773313</td>\n",
       "    </tr>\n",
       "    <tr>\n",
       "      <th>max</th>\n",
       "      <td>0.997733</td>\n",
       "      <td>0.999413</td>\n",
       "      <td>0.999879</td>\n",
       "      <td>0.999831</td>\n",
       "      <td>0.996810</td>\n",
       "    </tr>\n",
       "  </tbody>\n",
       "</table>\n",
       "</div>"
      ],
      "text/plain": [
       "                0           1           2           3           4\n",
       "count  500.000000  500.000000  500.000000  500.000000  500.000000\n",
       "mean     0.497263    0.489739    0.517166    0.478801    0.517301\n",
       "std      0.282874    0.282577    0.295033    0.287467    0.281285\n",
       "min      0.000119    0.002137    0.001695    0.000752    0.000881\n",
       "25%      0.253882    0.243956    0.253445    0.257622    0.281927\n",
       "50%      0.484763    0.500644    0.537102    0.464864    0.512380\n",
       "75%      0.742383    0.730797    0.779921    0.718273    0.773313\n",
       "max      0.997733    0.999413    0.999879    0.999831    0.996810"
      ]
     },
     "execution_count": 11,
     "metadata": {},
     "output_type": "execute_result"
    }
   ],
   "source": [
    "d1.describe()"
   ]
  },
  {
   "cell_type": "code",
   "execution_count": 13,
   "id": "985a3392",
   "metadata": {},
   "outputs": [
    {
     "data": {
      "text/plain": [
       "0    float64\n",
       "1    float64\n",
       "2    float64\n",
       "3    float64\n",
       "4    float64\n",
       "dtype: object"
      ]
     },
     "execution_count": 13,
     "metadata": {},
     "output_type": "execute_result"
    }
   ],
   "source": [
    "d1.dtypes"
   ]
  },
  {
   "cell_type": "code",
   "execution_count": 14,
   "id": "93f81916",
   "metadata": {},
   "outputs": [
    {
     "data": {
      "text/plain": [
       "Int64Index([  0,   1,   2,   3,   4,   5,   6,   7,   8,   9,\n",
       "            ...\n",
       "            490, 491, 492, 493, 494, 495, 496, 497, 498, 499],\n",
       "           dtype='int64', length=500)"
      ]
     },
     "execution_count": 14,
     "metadata": {},
     "output_type": "execute_result"
    }
   ],
   "source": [
    "d1.index"
   ]
  },
  {
   "cell_type": "code",
   "execution_count": 15,
   "id": "e1e65506",
   "metadata": {},
   "outputs": [
    {
     "data": {
      "text/plain": [
       "RangeIndex(start=0, stop=5, step=1)"
      ]
     },
     "execution_count": 15,
     "metadata": {},
     "output_type": "execute_result"
    }
   ],
   "source": [
    "d1.columns"
   ]
  },
  {
   "cell_type": "code",
   "execution_count": 17,
   "id": "3d1153db",
   "metadata": {},
   "outputs": [
    {
     "data": {
      "text/plain": [
       "array([[0.7881227 , 0.97246777, 0.46359408, 0.92620256, 0.26882908],\n",
       "       [0.81122146, 0.5179386 , 0.95999923, 0.08530323, 0.68781369],\n",
       "       [0.67185616, 0.04956398, 0.98563438, 0.53543254, 0.89221467],\n",
       "       ...,\n",
       "       [0.88319717, 0.59848925, 0.99987866, 0.06974378, 0.62640525],\n",
       "       [0.65289311, 0.51533463, 0.14514444, 0.59619083, 0.53798699],\n",
       "       [0.06796375, 0.95527937, 0.03690598, 0.02398267, 0.24394902]])"
      ]
     },
     "execution_count": 17,
     "metadata": {},
     "output_type": "execute_result"
    }
   ],
   "source": [
    "d1.to_numpy()"
   ]
  },
  {
   "cell_type": "code",
   "execution_count": 18,
   "id": "23dfe9a3",
   "metadata": {},
   "outputs": [],
   "source": [
    "a1 = d1.to_numpy()"
   ]
  },
  {
   "cell_type": "code",
   "execution_count": 19,
   "id": "fc454b2d",
   "metadata": {},
   "outputs": [
    {
     "data": {
      "text/plain": [
       "array([[0.7881227 , 0.97246777, 0.46359408, 0.92620256, 0.26882908],\n",
       "       [0.81122146, 0.5179386 , 0.95999923, 0.08530323, 0.68781369],\n",
       "       [0.67185616, 0.04956398, 0.98563438, 0.53543254, 0.89221467],\n",
       "       ...,\n",
       "       [0.88319717, 0.59848925, 0.99987866, 0.06974378, 0.62640525],\n",
       "       [0.65289311, 0.51533463, 0.14514444, 0.59619083, 0.53798699],\n",
       "       [0.06796375, 0.95527937, 0.03690598, 0.02398267, 0.24394902]])"
      ]
     },
     "execution_count": 19,
     "metadata": {},
     "output_type": "execute_result"
    }
   ],
   "source": [
    "a1"
   ]
  },
  {
   "cell_type": "code",
   "execution_count": null,
   "id": "c2a70101",
   "metadata": {},
   "outputs": [],
   "source": []
  }
 ],
 "metadata": {
  "kernelspec": {
   "display_name": "Python 3 (ipykernel)",
   "language": "python",
   "name": "python3"
  },
  "language_info": {
   "codemirror_mode": {
    "name": "ipython",
    "version": 3
   },
   "file_extension": ".py",
   "mimetype": "text/x-python",
   "name": "python",
   "nbconvert_exporter": "python",
   "pygments_lexer": "ipython3",
   "version": "3.7.9"
  }
 },
 "nbformat": 4,
 "nbformat_minor": 5
}
