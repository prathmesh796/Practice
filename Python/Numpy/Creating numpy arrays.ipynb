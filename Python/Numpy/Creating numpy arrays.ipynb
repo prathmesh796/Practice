{
 "cells": [
  {
   "cell_type": "markdown",
   "id": "d9fc35d5",
   "metadata": {},
   "source": [
    "# Creating Numpy Arrays"
   ]
  },
  {
   "cell_type": "code",
   "execution_count": 1,
   "id": "60866592",
   "metadata": {},
   "outputs": [],
   "source": [
    "import numpy as np"
   ]
  },
  {
   "cell_type": "markdown",
   "id": "6597d864",
   "metadata": {},
   "source": [
    "There are 6 general ways to create a nympy array:\n",
    "- Conversion from other Python structures (i.e. lists and tuples)\n",
    "\n",
    "- Intrinsic NumPy array creation functions (e.g. arange, ones, zeros, etc.)\n",
    "\n",
    "- Replicating, joining, or mutating existing arrays\n",
    "\n",
    "- Reading arrays from disk, either from standard or custom formats\n",
    "\n",
    "- Creating arrays from raw bytes through the use of strings or buffers\n",
    "\n",
    "- Use of special library functions (e.g., random)"
   ]
  },
  {
   "cell_type": "markdown",
   "id": "37f87ea0",
   "metadata": {},
   "source": [
    "Forr detailed info ref - https://numpy.org/doc/stable/user/basics.creation.html"
   ]
  },
  {
   "cell_type": "markdown",
   "id": "e3ca1ec4",
   "metadata": {},
   "source": [
    "***Array Creation M-1 : Conversion from other Python structures (i.e. lists and tuples)***"
   ]
  },
  {
   "cell_type": "code",
   "execution_count": 2,
   "id": "2215ebcb",
   "metadata": {},
   "outputs": [],
   "source": [
    "arr1 = np.array([[2, 1, 0], [1, 0, 0], [3, 2, 1]]) #creating from a py list\n",
    "arr2 = np.array({34, 45, 56, 67}) #creating from a py tuple"
   ]
  },
  {
   "cell_type": "code",
   "execution_count": 3,
   "id": "36e286cc",
   "metadata": {},
   "outputs": [
    {
     "data": {
      "text/plain": [
       "array([[2, 1, 0],\n",
       "       [1, 0, 0],\n",
       "       [3, 2, 1]])"
      ]
     },
     "execution_count": 3,
     "metadata": {},
     "output_type": "execute_result"
    }
   ],
   "source": [
    "arr1"
   ]
  },
  {
   "cell_type": "code",
   "execution_count": 4,
   "id": "dc272e3a",
   "metadata": {},
   "outputs": [
    {
     "data": {
      "text/plain": [
       "array({56, 34, 67, 45}, dtype=object)"
      ]
     },
     "execution_count": 4,
     "metadata": {},
     "output_type": "execute_result"
    }
   ],
   "source": [
    "arr2"
   ]
  },
  {
   "cell_type": "code",
   "execution_count": 5,
   "id": "0c11056d",
   "metadata": {},
   "outputs": [
    {
     "data": {
      "text/plain": [
       "(3, 3)"
      ]
     },
     "execution_count": 5,
     "metadata": {},
     "output_type": "execute_result"
    }
   ],
   "source": [
    "arr1.shape"
   ]
  },
  {
   "cell_type": "code",
   "execution_count": 6,
   "id": "eb50f05a",
   "metadata": {},
   "outputs": [
    {
     "data": {
      "text/plain": [
       "dtype('int32')"
      ]
     },
     "execution_count": 6,
     "metadata": {},
     "output_type": "execute_result"
    }
   ],
   "source": [
    "arr1.dtype"
   ]
  },
  {
   "cell_type": "code",
   "execution_count": 7,
   "id": "8e808c89",
   "metadata": {},
   "outputs": [
    {
     "data": {
      "text/plain": [
       "9"
      ]
     },
     "execution_count": 7,
     "metadata": {},
     "output_type": "execute_result"
    }
   ],
   "source": [
    "arr1.size"
   ]
  },
  {
   "cell_type": "code",
   "execution_count": 8,
   "id": "8dcb7abe",
   "metadata": {},
   "outputs": [
    {
     "data": {
      "text/plain": [
       "()"
      ]
     },
     "execution_count": 8,
     "metadata": {},
     "output_type": "execute_result"
    }
   ],
   "source": [
    "arr2.shape"
   ]
  },
  {
   "cell_type": "code",
   "execution_count": 9,
   "id": "40187869",
   "metadata": {},
   "outputs": [
    {
     "data": {
      "text/plain": [
       "dtype('O')"
      ]
     },
     "execution_count": 9,
     "metadata": {},
     "output_type": "execute_result"
    }
   ],
   "source": [
    "arr2.dtype"
   ]
  },
  {
   "cell_type": "code",
   "execution_count": 10,
   "id": "8872b6ca",
   "metadata": {},
   "outputs": [
    {
     "data": {
      "text/plain": [
       "1"
      ]
     },
     "execution_count": 10,
     "metadata": {},
     "output_type": "execute_result"
    }
   ],
   "source": [
    "arr2.size"
   ]
  },
  {
   "cell_type": "markdown",
   "id": "2c721da9",
   "metadata": {},
   "source": [
    "***Array Creation M-1 : Intrinsic NumPy array creation functions (e.g. arange, ones, zeros, etc.)***"
   ]
  },
  {
   "cell_type": "markdown",
   "id": "978e7ce0",
   "metadata": {},
   "source": [
    "np.zeros(n) is a numpy function which creates a numpy array containing n no. of elements all as \"0\""
   ]
  },
  {
   "cell_type": "code",
   "execution_count": 11,
   "id": "e92e013c",
   "metadata": {},
   "outputs": [],
   "source": [
    "z1 = np.zeros(10)\n",
    "z2 = np.zeros((2, 6))"
   ]
  },
  {
   "cell_type": "code",
   "execution_count": 12,
   "id": "7e8eaf5b",
   "metadata": {},
   "outputs": [
    {
     "data": {
      "text/plain": [
       "array([0., 0., 0., 0., 0., 0., 0., 0., 0., 0.])"
      ]
     },
     "execution_count": 12,
     "metadata": {},
     "output_type": "execute_result"
    }
   ],
   "source": [
    "z1"
   ]
  },
  {
   "cell_type": "code",
   "execution_count": 13,
   "id": "24cfb781",
   "metadata": {},
   "outputs": [
    {
     "data": {
      "text/plain": [
       "(10,)"
      ]
     },
     "execution_count": 13,
     "metadata": {},
     "output_type": "execute_result"
    }
   ],
   "source": [
    "z1.shape"
   ]
  },
  {
   "cell_type": "code",
   "execution_count": 14,
   "id": "ba260ff8",
   "metadata": {},
   "outputs": [
    {
     "data": {
      "text/plain": [
       "dtype('float64')"
      ]
     },
     "execution_count": 14,
     "metadata": {},
     "output_type": "execute_result"
    }
   ],
   "source": [
    "z1.dtype"
   ]
  },
  {
   "cell_type": "code",
   "execution_count": 15,
   "id": "2fb77951",
   "metadata": {},
   "outputs": [
    {
     "data": {
      "text/plain": [
       "10"
      ]
     },
     "execution_count": 15,
     "metadata": {},
     "output_type": "execute_result"
    }
   ],
   "source": [
    "z1.size"
   ]
  },
  {
   "cell_type": "code",
   "execution_count": 16,
   "id": "9d2de6f8",
   "metadata": {},
   "outputs": [
    {
     "data": {
      "text/plain": [
       "array([[0., 0., 0., 0., 0., 0.],\n",
       "       [0., 0., 0., 0., 0., 0.]])"
      ]
     },
     "execution_count": 16,
     "metadata": {},
     "output_type": "execute_result"
    }
   ],
   "source": [
    "z2"
   ]
  },
  {
   "cell_type": "code",
   "execution_count": 17,
   "id": "1f463ecc",
   "metadata": {},
   "outputs": [
    {
     "data": {
      "text/plain": [
       "(2, 6)"
      ]
     },
     "execution_count": 17,
     "metadata": {},
     "output_type": "execute_result"
    }
   ],
   "source": [
    "z2.shape"
   ]
  },
  {
   "cell_type": "code",
   "execution_count": 18,
   "id": "ef26b9a8",
   "metadata": {},
   "outputs": [
    {
     "data": {
      "text/plain": [
       "dtype('float64')"
      ]
     },
     "execution_count": 18,
     "metadata": {},
     "output_type": "execute_result"
    }
   ],
   "source": [
    "z2.dtype"
   ]
  },
  {
   "cell_type": "code",
   "execution_count": 19,
   "id": "56b9ece8",
   "metadata": {},
   "outputs": [
    {
     "data": {
      "text/plain": [
       "12"
      ]
     },
     "execution_count": 19,
     "metadata": {},
     "output_type": "execute_result"
    }
   ],
   "source": [
    "z2.size"
   ]
  },
  {
   "cell_type": "markdown",
   "id": "04b05f42",
   "metadata": {},
   "source": [
    "np.arange(n) is a numpy function which creates a numpy array containing n-1 elements ranging as 0 to n-1"
   ]
  },
  {
   "cell_type": "code",
   "execution_count": 20,
   "id": "2d1c4bee",
   "metadata": {},
   "outputs": [],
   "source": [
    "r1 = np.arange(15)"
   ]
  },
  {
   "cell_type": "code",
   "execution_count": 21,
   "id": "a6c9c14c",
   "metadata": {},
   "outputs": [
    {
     "data": {
      "text/plain": [
       "array([ 0,  1,  2,  3,  4,  5,  6,  7,  8,  9, 10, 11, 12, 13, 14])"
      ]
     },
     "execution_count": 21,
     "metadata": {},
     "output_type": "execute_result"
    }
   ],
   "source": [
    "r1"
   ]
  },
  {
   "cell_type": "markdown",
   "id": "ad1ecf4b",
   "metadata": {},
   "source": [
    "np.linspace(n1, n2, n) is a numpy function which creates a numpy array containing n elements starting from n1 to n2 such a that all the elements are equally spaced."
   ]
  },
  {
   "cell_type": "code",
   "execution_count": 22,
   "id": "8433d7b6",
   "metadata": {},
   "outputs": [],
   "source": [
    "n1 = np.linspace(1, 10, 7)"
   ]
  },
  {
   "cell_type": "code",
   "execution_count": 23,
   "id": "cc04cdc0",
   "metadata": {},
   "outputs": [
    {
     "data": {
      "text/plain": [
       "array([ 1. ,  2.5,  4. ,  5.5,  7. ,  8.5, 10. ])"
      ]
     },
     "execution_count": 23,
     "metadata": {},
     "output_type": "execute_result"
    }
   ],
   "source": [
    "n1"
   ]
  },
  {
   "cell_type": "markdown",
   "id": "e5115e81",
   "metadata": {},
   "source": [
    "np.empty(arg1, ...) is a numpy function which creates a numpy array with the size arg1 with completely empty space. That is, it just assigns the given memory for that array."
   ]
  },
  {
   "cell_type": "code",
   "execution_count": 24,
   "id": "11fe9559",
   "metadata": {},
   "outputs": [],
   "source": [
    "e1 = np.empty(10)"
   ]
  },
  {
   "cell_type": "code",
   "execution_count": 25,
   "id": "28c03e61",
   "metadata": {},
   "outputs": [
    {
     "data": {
      "text/plain": [
       "array([0., 0., 0., 0., 0., 0., 0., 0., 0., 0.])"
      ]
     },
     "execution_count": 25,
     "metadata": {},
     "output_type": "execute_result"
    }
   ],
   "source": [
    "e1"
   ]
  },
  {
   "cell_type": "markdown",
   "id": "e125c98c",
   "metadata": {},
   "source": [
    "np.empty_like(arr) is a numpy function which creates an array using another array which is previously created, but this new array will have copied all the elements form the initial array."
   ]
  },
  {
   "cell_type": "code",
   "execution_count": 26,
   "id": "1e8c60a6",
   "metadata": {},
   "outputs": [],
   "source": [
    "e2 = np.empty_like(r1)"
   ]
  },
  {
   "cell_type": "code",
   "execution_count": 27,
   "id": "49ac62ce",
   "metadata": {},
   "outputs": [
    {
     "data": {
      "text/plain": [
       "array([         0,          0,          0,          0,          0,\n",
       "                0,          0,          0,          0,          0,\n",
       "             1896,          0,          0, 1768316773,          0])"
      ]
     },
     "execution_count": 27,
     "metadata": {},
     "output_type": "execute_result"
    }
   ],
   "source": [
    "e2"
   ]
  },
  {
   "cell_type": "markdown",
   "id": "9b9516b9",
   "metadata": {},
   "source": [
    "there are also similar functions like: ones_like(arr)(Return an array of ones with shape and type of input.), zero_like(arr), full_like(arr)(Return a new array with shape of input filled with value), etc"
   ]
  },
  {
   "cell_type": "markdown",
   "id": "4f6811fe",
   "metadata": {},
   "source": [
    "np.identity(arg1) returns a identity matrix of size arg1"
   ]
  },
  {
   "cell_type": "code",
   "execution_count": 28,
   "id": "1a72cf7f",
   "metadata": {},
   "outputs": [],
   "source": [
    "i1 = np.identity(10)"
   ]
  },
  {
   "cell_type": "code",
   "execution_count": 29,
   "id": "85c51581",
   "metadata": {},
   "outputs": [
    {
     "data": {
      "text/plain": [
       "array([[1., 0., 0., 0., 0., 0., 0., 0., 0., 0.],\n",
       "       [0., 1., 0., 0., 0., 0., 0., 0., 0., 0.],\n",
       "       [0., 0., 1., 0., 0., 0., 0., 0., 0., 0.],\n",
       "       [0., 0., 0., 1., 0., 0., 0., 0., 0., 0.],\n",
       "       [0., 0., 0., 0., 1., 0., 0., 0., 0., 0.],\n",
       "       [0., 0., 0., 0., 0., 1., 0., 0., 0., 0.],\n",
       "       [0., 0., 0., 0., 0., 0., 1., 0., 0., 0.],\n",
       "       [0., 0., 0., 0., 0., 0., 0., 1., 0., 0.],\n",
       "       [0., 0., 0., 0., 0., 0., 0., 0., 1., 0.],\n",
       "       [0., 0., 0., 0., 0., 0., 0., 0., 0., 1.]])"
      ]
     },
     "execution_count": 29,
     "metadata": {},
     "output_type": "execute_result"
    }
   ],
   "source": [
    "i1"
   ]
  },
  {
   "cell_type": "markdown",
   "id": "4a38b656",
   "metadata": {},
   "source": [
    "arr.reshape(arg1, arg2, .....) is numpy function which returns a numpy array with the given arg as its dimensions. To give the correct dimensions ensure that the new dimensions product is equal to the old dimensions."
   ]
  },
  {
   "cell_type": "code",
   "execution_count": 30,
   "id": "908d0d17",
   "metadata": {},
   "outputs": [
    {
     "data": {
      "text/plain": [
       "array([[ 0,  1,  2,  3,  4],\n",
       "       [ 5,  6,  7,  8,  9],\n",
       "       [10, 11, 12, 13, 14]])"
      ]
     },
     "execution_count": 30,
     "metadata": {},
     "output_type": "execute_result"
    }
   ],
   "source": [
    "r1.reshape(3, 5) #this doesn't updates the orignal array."
   ]
  },
  {
   "cell_type": "code",
   "execution_count": 31,
   "id": "ee16a4b1",
   "metadata": {},
   "outputs": [
    {
     "data": {
      "text/plain": [
       "array([[ 0,  1,  2],\n",
       "       [ 3,  4,  5],\n",
       "       [ 6,  7,  8],\n",
       "       [ 9, 10, 11],\n",
       "       [12, 13, 14]])"
      ]
     },
     "execution_count": 31,
     "metadata": {},
     "output_type": "execute_result"
    }
   ],
   "source": [
    "r1.reshape(5, 3)"
   ]
  },
  {
   "cell_type": "code",
   "execution_count": 32,
   "id": "be909e25",
   "metadata": {},
   "outputs": [],
   "source": [
    "#to change it, write the reshape function as : \n",
    "r1_modified = r1.reshape(3, 5)"
   ]
  },
  {
   "cell_type": "code",
   "execution_count": 33,
   "id": "f4fef68a",
   "metadata": {},
   "outputs": [
    {
     "data": {
      "text/plain": [
       "array([[ 0,  1,  2,  3,  4],\n",
       "       [ 5,  6,  7,  8,  9],\n",
       "       [10, 11, 12, 13, 14]])"
      ]
     },
     "execution_count": 33,
     "metadata": {},
     "output_type": "execute_result"
    }
   ],
   "source": [
    "r1_modified"
   ]
  },
  {
   "cell_type": "markdown",
   "id": "7fb4d52e",
   "metadata": {},
   "source": [
    "arr.ravel() is a numpy function which returns the array as 1-D. that is it removes all the rows and keeps all the elements in a single row."
   ]
  },
  {
   "cell_type": "code",
   "execution_count": 34,
   "id": "9feb7f04",
   "metadata": {},
   "outputs": [
    {
     "data": {
      "text/plain": [
       "array([ 0,  1,  2,  3,  4,  5,  6,  7,  8,  9, 10, 11, 12, 13, 14])"
      ]
     },
     "execution_count": 34,
     "metadata": {},
     "output_type": "execute_result"
    }
   ],
   "source": [
    "r1_modified.ravel()"
   ]
  },
  {
   "cell_type": "code",
   "execution_count": null,
   "id": "d7080195",
   "metadata": {},
   "outputs": [],
   "source": []
  }
 ],
 "metadata": {
  "kernelspec": {
   "display_name": "Python 3 (ipykernel)",
   "language": "python",
   "name": "python3"
  },
  "language_info": {
   "codemirror_mode": {
    "name": "ipython",
    "version": 3
   },
   "file_extension": ".py",
   "mimetype": "text/x-python",
   "name": "python",
   "nbconvert_exporter": "python",
   "pygments_lexer": "ipython3",
   "version": "3.11.0"
  }
 },
 "nbformat": 4,
 "nbformat_minor": 5
}
