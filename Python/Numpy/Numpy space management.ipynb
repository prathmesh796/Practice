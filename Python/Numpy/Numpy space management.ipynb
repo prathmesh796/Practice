{
 "cells": [
  {
   "cell_type": "code",
   "execution_count": 1,
   "id": "e1f9ebe4",
   "metadata": {},
   "outputs": [],
   "source": [
    "import numpy as np\n",
    "import sys"
   ]
  },
  {
   "cell_type": "code",
   "execution_count": 2,
   "id": "898201f7",
   "metadata": {},
   "outputs": [],
   "source": [
    "py_ar = [2, 4, 6, 8, 10]\n",
    "np_ar = np.array(py_ar)"
   ]
  },
  {
   "cell_type": "code",
   "execution_count": 3,
   "id": "73626107",
   "metadata": {},
   "outputs": [
    {
     "data": {
      "text/plain": [
       "140"
      ]
     },
     "execution_count": 3,
     "metadata": {},
     "output_type": "execute_result"
    }
   ],
   "source": [
    "sys.getsizeof(1) * len(py_ar)"
   ]
  },
  {
   "cell_type": "code",
   "execution_count": 4,
   "id": "99efdbc6",
   "metadata": {},
   "outputs": [
    {
     "data": {
      "text/plain": [
       "20"
      ]
     },
     "execution_count": 4,
     "metadata": {},
     "output_type": "execute_result"
    }
   ],
   "source": [
    "np_ar.itemsize * np_ar.size"
   ]
  },
  {
   "cell_type": "code",
   "execution_count": 6,
   "id": "6172f8a1",
   "metadata": {},
   "outputs": [
    {
     "data": {
      "text/plain": [
       "[2, 4, 6, 8, 10]"
      ]
     },
     "execution_count": 6,
     "metadata": {},
     "output_type": "execute_result"
    }
   ],
   "source": [
    "np_ar.tolist()"
   ]
  },
  {
   "cell_type": "code",
   "execution_count": 7,
   "id": "98511354",
   "metadata": {},
   "outputs": [
    {
     "data": {
      "text/plain": [
       "140"
      ]
     },
     "execution_count": 7,
     "metadata": {},
     "output_type": "execute_result"
    }
   ],
   "source": [
    "sys.getsizeof(1) * len(np_ar)"
   ]
  },
  {
   "cell_type": "code",
   "execution_count": null,
   "id": "ba51cba1",
   "metadata": {},
   "outputs": [],
   "source": []
  }
 ],
 "metadata": {
  "kernelspec": {
   "display_name": "Python 3 (ipykernel)",
   "language": "python",
   "name": "python3"
  },
  "language_info": {
   "codemirror_mode": {
    "name": "ipython",
    "version": 3
   },
   "file_extension": ".py",
   "mimetype": "text/x-python",
   "name": "python",
   "nbconvert_exporter": "python",
   "pygments_lexer": "ipython3",
   "version": "3.7.9"
  }
 },
 "nbformat": 4,
 "nbformat_minor": 5
}
